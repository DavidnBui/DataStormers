{
 "cells": [
  {
   "cell_type": "code",
   "execution_count": 12,
   "metadata": {},
   "outputs": [],
   "source": [
    "import json\n",
    "import sys\n",
    "from utils import load_config, fetch_api_data, write_to_csv"
   ]
  },
  {
   "cell_type": "code",
   "execution_count": 13,
   "metadata": {},
   "outputs": [],
   "source": [
    "# Load config file\n",
    "config = load_config('config.json')\n",
    "\n",
    "# Get API key\n",
    "weather_api_key = config.get('National Centers for Environmental Information', {}).get('key')\n",
    "\n",
    "# Set base URL\n",
    "base_url = f\"https://www.ncei.noaa.gov/cdo-web/api/v2\"\n",
    "\n",
    "# Set endpoints\n",
    "endpoints = [\"datasets\", \"datacategories\", \"datatypes\", \"locationcategories\", \"locations\", \"stations\"]\n",
    "\n",
    "# Check if key exists in config file \n",
    "if not weather_api_key:\n",
    "    print(\"Weather API key not found in the configuration file.\")\n",
    "    sys.exit()"
   ]
  },
  {
   "cell_type": "code",
   "execution_count": 14,
   "metadata": {},
   "outputs": [
    {
     "name": "stdout",
     "output_type": "stream",
     "text": [
      "Running: datasets\n",
      "Running: datacategories\n",
      "Running: datatypes\n",
      "Running: locationcategories\n",
      "Running: locations\n",
      "Running: stations\n"
     ]
    }
   ],
   "source": [
    "# Define parameters\n",
    "params = {\"limit\": 1000}\n",
    "\n",
    "# Define headers\n",
    "headers = {\"token\": weather_api_key}\n",
    "\n",
    "# Loop through each endpoint\n",
    "for endpoint in endpoints:\n",
    "    print(f\"Running: {endpoint}\")\n",
    "    # Define output filename\n",
    "    filename = f\"NCEI_{endpoint}.csv\"\n",
    "    \n",
    "    # Set URL\n",
    "    url_endpoint = f\"{base_url}/{endpoint}\"\n",
    "    \n",
    "    # Run a request using params and header dictionaries\n",
    "    data = fetch_api_data(url_endpoint, params, headers, \"GET\", 30)\n",
    "    \n",
    "    # Process and write the data to CSV\n",
    "    if data and \"results\" in data:\n",
    "        write_to_csv(data[\"results\"], filename, \"w\")\n",
    "    else:\n",
    "        print(f\"No data found or invalid response format for endpoint: {endpoint}\")"
   ]
  }
 ],
 "metadata": {
  "kernelspec": {
   "display_name": "pythondata",
   "language": "python",
   "name": "python3"
  },
  "language_info": {
   "codemirror_mode": {
    "name": "ipython",
    "version": 3
   },
   "file_extension": ".py",
   "mimetype": "text/x-python",
   "name": "python",
   "nbconvert_exporter": "python",
   "pygments_lexer": "ipython3",
   "version": "3.10.14"
  }
 },
 "nbformat": 4,
 "nbformat_minor": 2
}
