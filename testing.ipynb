{
 "cells": [
  {
   "cell_type": "code",
   "execution_count": 5,
   "metadata": {},
   "outputs": [],
   "source": [
    "import json\n",
    "import sys\n",
    "from utils import load_config, fetch_api_data"
   ]
  },
  {
   "cell_type": "code",
   "execution_count": 6,
   "metadata": {},
   "outputs": [
    {
     "name": "stdout",
     "output_type": "stream",
     "text": [
      "[\n",
      "  {\n",
      "    \"DATE\": \"1960\",\n",
      "    \"STATION\": \"ASN00084027\",\n",
      "    \"PRCP_ATTRIBUTES\": \" ,a\",\n",
      "    \"PRCP\": \"45.19\"\n",
      "  }\n",
      "]\n"
     ]
    }
   ],
   "source": [
    "#Load config file\n",
    "config = load_config('config.json')\n",
    "\n",
    "#Get API key\n",
    "weather_api_key = config.get('National Centers for Environmental Information', {}).get('key')\n",
    "if not weather_api_key:\n",
    "    print(\"Weather API key not found in the configuration file.\")\n",
    "    sys.exit()\n",
    "\n",
    "# Set the parameters for the type of place\n",
    "dataset = \"global-summary-of-the-year\"\n",
    "dataTypes = [\"DP01\",\"DP05\",\"DP10\",\"DSND\",\"DSNW\",\"DT00\",\"DT32\",\"DX32\",\"DX70\",\"DX90\",\"SNOW\",\"PRCP\"]\n",
    "stations = \"ASN00084027\"\n",
    "startDate = \"1960-01-01\"\n",
    "endDate = \"1960-12-31\"\n",
    "units = \"standard\"\n",
    "includeAttributes = \"true\"\n",
    "format = \"json\"\n",
    "\n",
    "\n",
    "# set up a parameters dictionary\n",
    "params = {\n",
    "    \"dataset\":dataset,\n",
    "    \"dataTypes\":dataTypes,\n",
    "    \"stations\":stations,\n",
    "    \"startDate\":startDate,\n",
    "    \"endDate\":endDate,\n",
    "    \"units\":units,\n",
    "    \"includeAttributes\":includeAttributes,\n",
    "    \"format\":format\n",
    "}\n",
    "\n",
    "# Set base URL\n",
    "base_url = f\"https://www.ncei.noaa.gov/access/services/data/v1\"\n",
    "\n",
    "# run a request using our params dictionary\n",
    "data = fetch_api_data(base_url, params) # type: ignore\n",
    "print(json.dumps(data, indent=2))"
   ]
  }
 ],
 "metadata": {
  "kernelspec": {
   "display_name": "pythondata",
   "language": "python",
   "name": "python3"
  },
  "language_info": {
   "codemirror_mode": {
    "name": "ipython",
    "version": 3
   },
   "file_extension": ".py",
   "mimetype": "text/x-python",
   "name": "python",
   "nbconvert_exporter": "python",
   "pygments_lexer": "ipython3",
   "version": "3.10.14"
  }
 },
 "nbformat": 4,
 "nbformat_minor": 2
}
